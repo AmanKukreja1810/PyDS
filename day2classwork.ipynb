{
  "nbformat": 4,
  "nbformat_minor": 0,
  "metadata": {
    "colab": {
      "name": "day2classwork.ipynb",
      "provenance": [],
      "authorship_tag": "ABX9TyO94FgvP2VKGcNBi67isnSA",
      "include_colab_link": true
    },
    "kernelspec": {
      "name": "python3",
      "display_name": "Python 3"
    }
  },
  "cells": [
    {
      "cell_type": "markdown",
      "metadata": {
        "id": "view-in-github",
        "colab_type": "text"
      },
      "source": [
        "<a href=\"https://colab.research.google.com/github/AmanKukreja1810/PyDS/blob/master/day2classwork.ipynb\" target=\"_parent\"><img src=\"https://colab.research.google.com/assets/colab-badge.svg\" alt=\"Open In Colab\"/></a>"
      ]
    },
    {
      "cell_type": "markdown",
      "metadata": {
        "id": "G5xyxGctSrbH",
        "colab_type": "text"
      },
      "source": [
        "1. Write a program to print all the prime number less than 100."
      ]
    },
    {
      "cell_type": "code",
      "metadata": {
        "id": "qU2RwcA5Skb0",
        "colab_type": "code",
        "colab": {
          "base_uri": "https://localhost:8080/",
          "height": 35
        },
        "outputId": "98ed6294-eef3-4acf-8c3c-008f1a43b033"
      },
      "source": [
        "for Number in range (1, 100):\n",
        "\n",
        "    count = 0\n",
        "\n",
        "    for i in range(2, (Number//2 + 1)):\n",
        "\n",
        "        if(Number % i == 0):\n",
        "\n",
        "            count = count + 1\n",
        "\n",
        "            break\n",
        "\n",
        "    if (count == 0 and Number != 1):\n",
        "\n",
        "        print(\" %d\" %Number, end = '  ')"
      ],
      "execution_count": 2,
      "outputs": [
        {
          "output_type": "stream",
          "text": [
            " 2   3   5   7   11   13   17   19   23   29   31   37   41   43   47   53   59   61   67   71   73   79   83   89   97  "
          ],
          "name": "stdout"
        }
      ]
    }
  ]
}