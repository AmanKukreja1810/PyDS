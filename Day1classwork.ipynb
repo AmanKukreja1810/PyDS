{
  "nbformat": 4,
  "nbformat_minor": 0,
  "metadata": {
    "colab": {
      "name": "Day1classwork.ipynb",
      "provenance": [],
      "authorship_tag": "ABX9TyO1j45hrP7Zzm4X+2dYunYk",
      "include_colab_link": true
    },
    "kernelspec": {
      "name": "python3",
      "display_name": "Python 3"
    }
  },
  "cells": [
    {
      "cell_type": "markdown",
      "metadata": {
        "id": "view-in-github",
        "colab_type": "text"
      },
      "source": [
        "<a href=\"https://colab.research.google.com/github/AmanKukreja1810/PyDS/blob/master/Day1classwork.ipynb\" target=\"_parent\"><img src=\"https://colab.research.google.com/assets/colab-badge.svg\" alt=\"Open In Colab\"/></a>"
      ]
    },
    {
      "cell_type": "markdown",
      "metadata": {
        "id": "paww2KJr2f0V",
        "colab_type": "text"
      },
      "source": [
        "2. Write a function to check whether given two string is anagram or not."
      ]
    },
    {
      "cell_type": "code",
      "metadata": {
        "id": "9OTsczyH2XTk",
        "colab_type": "code",
        "colab": {
          "base_uri": "https://localhost:8080/",
          "height": 72
        },
        "outputId": "7b2583aa-5c59-4e89-f3af-e9fee1eb322a"
      },
      "source": [
        "def anagram(str1, str2):\n",
        "  if(sorted(str1) == sorted(str2)):\n",
        "    print(\"Strings are anagram\") \n",
        "  else:\n",
        "      print(\"Strings are not anagram\")\n",
        "str1 = input(\"Enter first string: \")\n",
        "str2 = input(\"Enter second string: \")\n",
        "\n",
        "anagram(str1, str2)"
      ],
      "execution_count": 19,
      "outputs": [
        {
          "output_type": "stream",
          "text": [
            "Enter first string: ABC\n",
            "Enter second string: CAB\n",
            "Strings are anagram\n"
          ],
          "name": "stdout"
        }
      ]
    }
  ]
}