{
  "nbformat": 4,
  "nbformat_minor": 0,
  "metadata": {
    "colab": {
      "name": "Assignment_8.ipynb",
      "provenance": [],
      "authorship_tag": "ABX9TyNac3xCM6BIzLvo+3d/kIXi",
      "include_colab_link": true
    },
    "kernelspec": {
      "name": "python3",
      "display_name": "Python 3"
    }
  },
  "cells": [
    {
      "cell_type": "markdown",
      "metadata": {
        "id": "view-in-github",
        "colab_type": "text"
      },
      "source": [
        "<a href=\"https://colab.research.google.com/github/AmanKukreja1810/PyDS/blob/master/Assignment_8.ipynb\" target=\"_parent\"><img src=\"https://colab.research.google.com/assets/colab-badge.svg\" alt=\"Open In Colab\"/></a>"
      ]
    },
    {
      "cell_type": "markdown",
      "metadata": {
        "id": "tL6ntmvXmCFq",
        "colab_type": "text"
      },
      "source": [
        "Make a ndarray by using np.arange(120), reshape it into shape of (2,3,4,5) and do the following operation on this new ndarray:\n",
        "1. Access the value 91 using indexing\n",
        "2. obtain a range of value 35-39 from this ndarray\n",
        "3. Make another 1D array from this having values 0 and all multiples of 5\n",
        "4. obtain mean values on axis-3 elements.\n"
      ]
    },
    {
      "cell_type": "code",
      "metadata": {
        "id": "emHAApxymsAX",
        "colab_type": "code",
        "colab": {
          "base_uri": "https://localhost:8080/",
          "height": 217
        },
        "outputId": "379d9764-09b5-49e6-a4da-4049437f712a"
      },
      "source": [
        "import numpy as np\n",
        "temp_array = np.arange(120).reshape(2,3,4,5)\n",
        "\n",
        "res = temp_array[1,1,2,1]       \n",
        "print(res)\n",
        "result = np.where(np.logical_and(temp_array>= 35, temp_array<= 39))\n",
        "print(\"result\" , result)\n",
        "temp_array_1d = np.arange(0,120,5)\n",
        "print(\"1D_array \" , temp_array_1d)\n",
        "\n",
        "m = temp_array.mean(axis = 3)\n",
        "print(\"mean \",m)"
      ],
      "execution_count": 3,
      "outputs": [
        {
          "output_type": "stream",
          "text": [
            "91\n",
            "result (array([0, 0, 0, 0, 0]), array([1, 1, 1, 1, 1]), array([3, 3, 3, 3, 3]), array([0, 1, 2, 3, 4]))\n",
            "1D_array  [  0   5  10  15  20  25  30  35  40  45  50  55  60  65  70  75  80  85\n",
            "  90  95 100 105 110 115]\n",
            "mean  [[[  2.   7.  12.  17.]\n",
            "  [ 22.  27.  32.  37.]\n",
            "  [ 42.  47.  52.  57.]]\n",
            "\n",
            " [[ 62.  67.  72.  77.]\n",
            "  [ 82.  87.  92.  97.]\n",
            "  [102. 107. 112. 117.]]]\n"
          ],
          "name": "stdout"
        }
      ]
    },
    {
      "cell_type": "markdown",
      "metadata": {
        "id": "v6jF26NuoN5K",
        "colab_type": "text"
      },
      "source": [
        "Make a numpy ndarray np.linspace(5,20,24), and reshape into shape of (4,6).\n",
        "1. Split and stack to make array of shape (4,4) such that it contain elements of first, second ,fourth and sixth column.\n",
        "2. Split and stack to make array of shape (2,2) such that it contain elements of first and fourth row and third and fifth column."
      ]
    },
    {
      "cell_type": "code",
      "metadata": {
        "id": "S6JVMU_Wow8N",
        "colab_type": "code",
        "colab": {
          "base_uri": "https://localhost:8080/",
          "height": 162
        },
        "outputId": "1de2400e-0bb4-42a7-d82b-7ba15ffd9d97"
      },
      "source": [
        "import numpy as np\n",
        "\n",
        "temp_array = np.linspace(5,20,24).reshape(4,6)\n",
        "print(temp_array)\n",
        "\n",
        "[A1,A2,A3,A4,A5,A6] = (np.hsplit(temp_array,6))\n",
        "array_1 = np.stack((A1,A2,A4,A6)).reshape(4,4)\n",
        "print(array_1)"
      ],
      "execution_count": 19,
      "outputs": [
        {
          "output_type": "stream",
          "text": [
            "[[ 5.          5.65217391  6.30434783  6.95652174  7.60869565  8.26086957]\n",
            " [ 8.91304348  9.56521739 10.2173913  10.86956522 11.52173913 12.17391304]\n",
            " [12.82608696 13.47826087 14.13043478 14.7826087  15.43478261 16.08695652]\n",
            " [16.73913043 17.39130435 18.04347826 18.69565217 19.34782609 20.        ]]\n",
            "[[ 5.          8.91304348 12.82608696 16.73913043]\n",
            " [ 5.65217391  9.56521739 13.47826087 17.39130435]\n",
            " [ 6.95652174 10.86956522 14.7826087  18.69565217]\n",
            " [ 8.26086957 12.17391304 16.08695652 20.        ]]\n"
          ],
          "name": "stdout"
        }
      ]
    },
    {
      "cell_type": "markdown",
      "metadata": {
        "id": "C0uOmu4jq-QI",
        "colab_type": "text"
      },
      "source": [
        "\n",
        "\n",
        "Plot a function of log2 and straight line $y = 0.5x - 1$ using matplotlib and find out approximate value at which they intersect. Make sure you have legend in the figure naming the curve.\n"
      ]
    },
    {
      "cell_type": "code",
      "metadata": {
        "id": "HXHpFGUVTzzj",
        "colab_type": "code",
        "colab": {
          "base_uri": "https://localhost:8080/",
          "height": 280
        },
        "outputId": "a5fa9012-a561-4250-ce70-e2e90b130830"
      },
      "source": [
        "from matplotlib import pyplot as plt\n",
        "\n",
        "x1 = np.linspace(-20,20)\n",
        "\n",
        "plt.plot(x1,x1*0.5 - 1,color='orange' ,label=\"y=0.5x+1\")\n",
        "\n",
        "x2 = np.linspace(0.000001,30)\n",
        "\n",
        "plt.plot(x2,np.log2(x2),color='green' ,label=\"y=log2\")\n",
        "\n",
        "plt.grid(True)\n",
        "\n",
        "plt.legend(loc=\"best\")\n",
        "\n",
        "plt.xlabel(\"x-label\") \n",
        "\n",
        "plt.ylabel(\"y-label\") \n",
        "\n",
        "plt.show()\n"
      ],
      "execution_count": 26,
      "outputs": [
        {
          "output_type": "display_data",
          "data": {
            "image/png": "[encoded data removed]",
            "text/plain": [
              "<Figure size 432x288 with 1 Axes>"
            ]
          },
          "metadata": {
            "tags": [],
            "needs_background": "light"
          }
        }
      ]
    }
  ]
}