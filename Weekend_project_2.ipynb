{
  "nbformat": 4,
  "nbformat_minor": 0,
  "metadata": {
    "colab": {
      "name": "Weekend_project_2.ipynb",
      "provenance": [],
      "private_outputs": true,
      "toc_visible": true,
      "authorship_tag": "ABX9TyPiwcznNPBBBjcB7LTuoBEE",
      "include_colab_link": true
    },
    "kernelspec": {
      "name": "python3",
      "display_name": "Python 3"
    }
  },
  "cells": [
    {
      "cell_type": "markdown",
      "metadata": {
        "id": "view-in-github",
        "colab_type": "text"
      },
      "source": [
        "<a href=\"https://colab.research.google.com/github/AmanKukreja1810/PyDS/blob/master/Weekend_project_2.ipynb\" target=\"_parent\"><img src=\"https://colab.research.google.com/assets/colab-badge.svg\" alt=\"Open In Colab\"/></a>"
      ]
    },
    {
      "cell_type": "markdown",
      "metadata": {
        "id": "lZ-IeZGHrEHd",
        "colab_type": "text"
      },
      "source": [
        "Weekend Project 2\n",
        "\n",
        "Given the initial velocity and angle animate the falling ball trajecory under free fall of gravity. Use Numpy and Matplotlib only for this.\n"
      ]
    },
    {
      "cell_type": "code",
      "metadata": {
        "id": "YdP1IU9srBNv",
        "colab_type": "code",
        "colab": {}
      },
      "source": [
        "import numpy as np\n",
        "import matplotlib.pyplot as plt\n",
        "velocity = int(input(\"enter velocity  \"))\n",
        "angle = int(input(\"enter angle  \"))\n",
        "velocity_x = velocity*np.cos(np.pi/180*angle)\n",
        "velocity_y = velocity*np.sin(np.pi/180*angle)\n",
        "if(angle==90):\n",
        "    velocity_x= 0\n",
        "g = 9.8\n",
        "time = int((2*velocity_y)//g)\n",
        "distance_x = []\n",
        "distance_y = []\n",
        "for t in range(0,(time+1)*100):\n",
        "    s_x = velocity_x * (t/100)\n",
        "    s_y = velocity_y * (t/100) - (1 / 2) * (g) * (t/100) * (t/100)\n",
        "    if(s_y>0):\n",
        "        distance_y.append(s_y)\n",
        "        distance_x.append(s_x)\n",
        "distance_x = np.array(distance_x)\n",
        "distance_y = np.array(distance_y)\n",
        "plt.xlabel(\"distance_x\")\n",
        "plt.ylabel(\"distance_y\")\n",
        "plt.plot(distance_x, distance_y)\n",
        "plt.show()"
      ],
      "execution_count": 0,
      "outputs": []
    }
  ]
}