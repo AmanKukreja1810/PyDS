{
  "nbformat": 4,
  "nbformat_minor": 0,
  "metadata": {
    "colab": {
      "name": "Day_18_classwork.ipynb",
      "provenance": [],
      "private_outputs": true,
      "authorship_tag": "ABX9TyOXsyHoRydcXVDdK0Dqi7ip"
    },
    "kernelspec": {
      "name": "python3",
      "display_name": "Python 3"
    }
  },
  "cells": [
    {
      "cell_type": "markdown",
      "metadata": {
        "id": "8W8rwx0znMDk",
        "colab_type": "text"
      },
      "source": [
        "How we can perform Data Aggregation on Pandas DataFrame? Give an example.\n",
        "\n",
        "\n",
        "\n",
        "Python is a great language for doing data analysis. Pandas is one of data-centric Python packages and makes importing and analyzing data much easier.\n",
        "\n",
        "Dataframe.aggregate() function is used to apply some aggregation across one or more column. Aggregate using callable, string, dict, or list of string/callables. \n",
        "Most frequently used aggregations are:\n",
        "1. sum: Return the sum of the values for the requested axis\n",
        "2. min: Return the minimum of the values for the requested axis\n",
        "3. max: Return the maximum of the values for the requested axis\n",
        "\n",
        "Syntax: DataFrame.aggregate(func, axis=0, *args, **kwargs)\n",
        "\n",
        "Parameters:\n",
        "func : callable, string, dictionary, or list of string/callables. Function to use for aggregating the data. If a function, must either work when passed a DataFrame or when passed to DataFrame.apply. For a DataFrame, can pass a dict, if the keys are DataFrame column names.\n",
        "axis : (default 0) {0 or ‘index’, 1 or ‘columns’} 0 or ‘index’: apply function to each column. 1 or ‘columns’: apply function to each row.\n",
        "\n",
        "Returns: Aggregated DataFrame\n"
      ]
    },
    {
      "cell_type": "code",
      "metadata": {
        "id": "5we6uAMinKNS",
        "colab_type": "code",
        "colab": {}
      },
      "source": [
        "import pandas as pd\n",
        "import numpy as np\n",
        "df = pd.DataFrame([[1, 2, 3],\n",
        "                   [4, 5, 6],\n",
        "                    [7, 8, 9],\n",
        "                   [np.nan, np.nan, np.nan]],\n",
        "                  columns=['A', 'B', 'C'])\n",
        "print(df)\n",
        "# Aggregate these functions over the rows.\n",
        "print(df.agg(['sum', 'min']))\n",
        "# Different aggregations per column.\n",
        "print(df.agg({'A' : ['sum', 'min'], 'B' : ['min', 'max']}))\n",
        "# Aggregate over the columns.\n",
        "print(df.agg(\"mean\", axis=\"columns\"))\n",
        "# Aggregate over the rows.\n",
        "print(df.agg(\"mean\", axis=\"rows\"))"
      ],
      "execution_count": 0,
      "outputs": []
    }
  ]
}